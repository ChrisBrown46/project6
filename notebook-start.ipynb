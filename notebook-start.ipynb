{
 "cells": [
  {
   "cell_type": "code",
   "execution_count": 37,
   "metadata": {
    "collapsed": true,
    "jupyter": {
     "outputs_hidden": true
    }
   },
   "outputs": [
    {
     "ename": "ModuleNotFoundError",
     "evalue": "No module named 'sklearn'",
     "output_type": "error",
     "traceback": [
      "\u001b[0;31m---------------------------------------------------------------------------\u001b[0m",
      "\u001b[0;31mModuleNotFoundError\u001b[0m                       Traceback (most recent call last)",
      "\u001b[0;32m<ipython-input-37-5bd29054761a>\u001b[0m in \u001b[0;36m<module>\u001b[0;34m\u001b[0m\n\u001b[1;32m      2\u001b[0m \u001b[0;32mimport\u001b[0m \u001b[0mnumpy\u001b[0m \u001b[0;32mas\u001b[0m \u001b[0mnp\u001b[0m\u001b[0;34m\u001b[0m\u001b[0;34m\u001b[0m\u001b[0m\n\u001b[1;32m      3\u001b[0m \u001b[0;34m\u001b[0m\u001b[0m\n\u001b[0;32m----> 4\u001b[0;31m \u001b[0;32mfrom\u001b[0m \u001b[0msklearn\u001b[0m\u001b[0;34m.\u001b[0m\u001b[0mlinear_model\u001b[0m \u001b[0;32mimport\u001b[0m \u001b[0mLinearRegression\u001b[0m\u001b[0;34m\u001b[0m\u001b[0;34m\u001b[0m\u001b[0m\n\u001b[0m\u001b[1;32m      5\u001b[0m \u001b[0;34m\u001b[0m\u001b[0m\n\u001b[1;32m      6\u001b[0m \u001b[0;32mimport\u001b[0m \u001b[0mmatplotlib\u001b[0m\u001b[0;34m.\u001b[0m\u001b[0mpyplot\u001b[0m \u001b[0;32mas\u001b[0m \u001b[0mplt\u001b[0m\u001b[0;34m\u001b[0m\u001b[0;34m\u001b[0m\u001b[0m\n",
      "\u001b[0;31mModuleNotFoundError\u001b[0m: No module named 'sklearn'"
     ]
    }
   ],
   "source": [
    "import pandas as pd\n",
    "import numpy as np\n",
    "\n",
    "from sklearn.linear_model import LinearRegression\n",
    "\n",
    "import matplotlib.pyplot as plt"
   ]
  },
  {
   "cell_type": "markdown",
   "metadata": {},
   "source": [
    "## Load data and build test/train split"
   ]
  },
  {
   "cell_type": "code",
   "execution_count": 71,
   "metadata": {},
   "outputs": [],
   "source": [
    "data = pd.read_csv(\"./data/RRCA_baseflow.csv\")"
   ]
  },
  {
   "cell_type": "code",
   "execution_count": 72,
   "metadata": {},
   "outputs": [],
   "source": [
    "def test_train_split():\n",
    "    data = data.sample(frac=1)\n",
    "    split = int(0.8 * len(data))\n",
    "\n",
    "    train = data.iloc[:split, :]\n",
    "    test = data.iloc[split:, :]\n",
    "\n",
    "    train.to_csv(\"./data/train.csv\", index=None)\n",
    "    test.to_csv(\"./data/test.csv\", index=None)\n",
    "\n",
    "# test_train_split()"
   ]
  },
  {
   "cell_type": "code",
   "execution_count": 73,
   "metadata": {},
   "outputs": [],
   "source": [
    "train = pd.read_csv(\"./data/train.csv\")\n",
    "test = pd.read_csv(\"./data/test.csv\")"
   ]
  },
  {
   "cell_type": "code",
   "execution_count": 74,
   "metadata": {},
   "outputs": [],
   "source": [
    "split = int(0.8 * len(train))\n",
    "train = train.sample(frac=1)\n",
    "\n",
    "validation = train.iloc[split:, :]\n",
    "train = train.iloc[:split, :]"
   ]
  },
  {
   "cell_type": "markdown",
   "metadata": {},
   "source": [
    "## Explore data"
   ]
  },
  {
   "cell_type": "code",
   "execution_count": 75,
   "metadata": {},
   "outputs": [
    {
     "name": "stdout",
     "output_type": "stream",
     "text": [
      "['Date' 'Segment_id' 'x' 'y' 'Evapotranspiration' 'Precipitation'\n",
      " 'Irrigation_pumping' 'Observed']\n",
      "\n"
     ]
    },
    {
     "data": {
      "text/plain": [
       "'Date'"
      ]
     },
     "metadata": {},
     "output_type": "display_data"
    },
    {
     "name": "stdout",
     "output_type": "stream",
     "text": [
      "std: 6287.137751579983\n",
      "avg: 719206.1753575781\n",
      "min: 708479\n",
      "max: 730729\n",
      "\n"
     ]
    },
    {
     "data": {
      "text/plain": [
       "'Segment_id'"
      ]
     },
     "metadata": {},
     "output_type": "display_data"
    },
    {
     "name": "stdout",
     "output_type": "stream",
     "text": [
      "std: 52.78791190766203\n",
      "avg: 126.58989160413059\n",
      "min: 40\n",
      "max: 256\n",
      "\n"
     ]
    },
    {
     "data": {
      "text/plain": [
       "'x'"
      ]
     },
     "metadata": {},
     "output_type": "display_data"
    },
    {
     "name": "stdout",
     "output_type": "stream",
     "text": [
      "std: 292489.75358944904\n",
      "avg: 1169435.2568789686\n",
      "min: 721870\n",
      "max: 1941550\n",
      "\n"
     ]
    },
    {
     "data": {
      "text/plain": [
       "'y'"
      ]
     },
     "metadata": {},
     "output_type": "display_data"
    },
    {
     "name": "stdout",
     "output_type": "stream",
     "text": [
      "std: 83307.80760590668\n",
      "avg: 14570660.457956513\n",
      "min: 14387040\n",
      "max: 14767200\n",
      "\n"
     ]
    },
    {
     "data": {
      "text/plain": [
       "'Evapotranspiration'"
      ]
     },
     "metadata": {},
     "output_type": "display_data"
    },
    {
     "name": "stdout",
     "output_type": "stream",
     "text": [
      "std: 3.167133287231281\n",
      "avg: 2.6874908601116028\n",
      "min: 0.0\n",
      "max: 12.1\n",
      "\n"
     ]
    },
    {
     "data": {
      "text/plain": [
       "'Precipitation'"
      ]
     },
     "metadata": {},
     "output_type": "display_data"
    },
    {
     "name": "stdout",
     "output_type": "stream",
     "text": [
      "std: 10.512571361268662\n",
      "avg: 14.915468539542044\n",
      "min: 0.0\n",
      "max: 40.38\n",
      "\n"
     ]
    },
    {
     "data": {
      "text/plain": [
       "'Irrigation_pumping'"
      ]
     },
     "metadata": {},
     "output_type": "display_data"
    },
    {
     "name": "stdout",
     "output_type": "stream",
     "text": [
      "std: 0.27371714995088736\n",
      "avg: -0.090712565133731\n",
      "min: -3.1647\n",
      "max: 0.0\n",
      "\n"
     ]
    },
    {
     "data": {
      "text/plain": [
       "'Observed'"
      ]
     },
     "metadata": {},
     "output_type": "display_data"
    },
    {
     "name": "stdout",
     "output_type": "stream",
     "text": [
      "std: 56.273487440683574\n",
      "avg: 23.986753837712268\n",
      "min: -22.0\n",
      "max: 747.80328\n",
      "\n"
     ]
    }
   ],
   "source": [
    "print(data.columns.values)\n",
    "print()\n",
    "\n",
    "for header in data.columns:\n",
    "    display(header)\n",
    "    print(f\"std: {data[[header]].values.flatten().std()}\")\n",
    "    print(f\"avg: {data[[header]].values.flatten().mean()}\")\n",
    "    print(f\"min: {data[[header]].values.flatten().min()}\")\n",
    "    print(f\"max: {data[[header]].values.flatten().max()}\")\n",
    "    print()"
   ]
  },
  {
   "cell_type": "code",
   "execution_count": 76,
   "metadata": {},
   "outputs": [],
   "source": [
    "# Split into Test, Train / Validation\n",
    "# 1) Split data into test and train files\n",
    "# 2) While training and evaluating, split train into train and validation"
   ]
  },
  {
   "cell_type": "code",
   "execution_count": null,
   "metadata": {},
   "outputs": [],
   "source": []
  }
 ],
 "metadata": {
  "kernelspec": {
   "display_name": "Python 3",
   "language": "python",
   "name": "python3"
  },
  "language_info": {
   "codemirror_mode": {
    "name": "ipython",
    "version": 3
   },
   "file_extension": ".py",
   "mimetype": "text/x-python",
   "name": "python",
   "nbconvert_exporter": "python",
   "pygments_lexer": "ipython3",
   "version": "3.8.1"
  }
 },
 "nbformat": 4,
 "nbformat_minor": 4
}
