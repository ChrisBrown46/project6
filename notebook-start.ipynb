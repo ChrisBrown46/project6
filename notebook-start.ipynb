{
 "cells": [
  {
   "cell_type": "code",
   "execution_count": 18,
   "metadata": {},
   "outputs": [
    {
     "ename": "ModuleNotFoundError",
     "evalue": "No module named 'statsmodels'",
     "output_type": "error",
     "traceback": [
      "\u001b[0;31m---------------------------------------------------------------------------\u001b[0m",
      "\u001b[0;31mModuleNotFoundError\u001b[0m                       Traceback (most recent call last)",
      "\u001b[0;32m<ipython-input-18-1fba61bfd4ac>\u001b[0m in \u001b[0;36m<module>\u001b[0;34m\u001b[0m\n\u001b[1;32m      3\u001b[0m \u001b[0;34m\u001b[0m\u001b[0m\n\u001b[1;32m      4\u001b[0m \u001b[0;32mfrom\u001b[0m \u001b[0msklearn\u001b[0m\u001b[0;34m.\u001b[0m\u001b[0mlinear_model\u001b[0m \u001b[0;32mimport\u001b[0m \u001b[0mLinearRegression\u001b[0m\u001b[0;34m\u001b[0m\u001b[0;34m\u001b[0m\u001b[0m\n\u001b[0;32m----> 5\u001b[0;31m \u001b[0;32mfrom\u001b[0m \u001b[0mstatsmodels\u001b[0m\u001b[0;34m.\u001b[0m\u001b[0mapi\u001b[0m \u001b[0;32mimport\u001b[0m \u001b[0mOLS\u001b[0m\u001b[0;34m\u001b[0m\u001b[0;34m\u001b[0m\u001b[0m\n\u001b[0m\u001b[1;32m      6\u001b[0m \u001b[0;34m\u001b[0m\u001b[0m\n\u001b[1;32m      7\u001b[0m \u001b[0;32mimport\u001b[0m \u001b[0mmatplotlib\u001b[0m\u001b[0;34m.\u001b[0m\u001b[0mpyplot\u001b[0m \u001b[0;32mas\u001b[0m \u001b[0mplt\u001b[0m\u001b[0;34m\u001b[0m\u001b[0;34m\u001b[0m\u001b[0m\n",
      "\u001b[0;31mModuleNotFoundError\u001b[0m: No module named 'statsmodels'"
     ]
    }
   ],
   "source": [
    "import pandas as pd\n",
    "import numpy as np\n",
    "\n",
    "from sklearn.linear_model import LinearRegression\n",
    "from statsmodels.api import OLS, add_constant\n",
    "\n",
    "import matplotlib.pyplot as plt"
   ]
  },
  {
   "cell_type": "markdown",
   "metadata": {},
   "source": [
    "## Load data and build test/train split"
   ]
  },
  {
   "cell_type": "code",
   "execution_count": 2,
   "metadata": {},
   "outputs": [],
   "source": [
    "data = pd.read_csv(\"./data/RRCA_baseflow.csv\")"
   ]
  },
  {
   "cell_type": "code",
   "execution_count": 3,
   "metadata": {},
   "outputs": [],
   "source": [
    "def test_train_split():\n",
    "    data = data.sample(frac=1)\n",
    "    split = int(0.8 * len(data))\n",
    "\n",
    "    train = data.iloc[:split, :]\n",
    "    test = data.iloc[split:, :]\n",
    "\n",
    "    train.to_csv(\"./data/train.csv\", index=None)\n",
    "    test.to_csv(\"./data/test.csv\", index=None)\n",
    "\n",
    "# test_train_split()"
   ]
  },
  {
   "cell_type": "code",
   "execution_count": 4,
   "metadata": {},
   "outputs": [],
   "source": [
    "train = pd.read_csv(\"./data/train.csv\")\n",
    "test = pd.read_csv(\"./data/test.csv\")\n",
    "\n",
    "split = int(0.8 * len(train))\n",
    "train = train.sample(frac=1)\n",
    "\n",
    "validation = train.iloc[split:, :]\n",
    "validation_y = validation[[\"Observed\"]]\n",
    "validation_x = validation.drop([\"Observed\"], axis=1)\n",
    "\n",
    "train = train.iloc[:split, :]\n",
    "train_y = train[[\"Observed\"]]\n",
    "train_x = train.drop([\"Observed\"], axis=1)"
   ]
  },
  {
   "cell_type": "markdown",
   "metadata": {},
   "source": [
    "## Explore data"
   ]
  },
  {
   "cell_type": "code",
   "execution_count": 5,
   "metadata": {},
   "outputs": [
    {
     "name": "stdout",
     "output_type": "stream",
     "text": [
      "Columns: Date, Segment_id, x, y, Evapotranspiration, Precipitation, Irrigation_pumping, Observed\n",
      "\n",
      "Date\n",
      "std: 6287.137751579983\n",
      "avg: 719206.1753575781\n",
      "min: 708479\n",
      "max: 730729\n",
      "\n",
      "Segment_id\n",
      "std: 52.78791190766203\n",
      "avg: 126.58989160413059\n",
      "min: 40\n",
      "max: 256\n",
      "\n",
      "x\n",
      "std: 292489.75358944904\n",
      "avg: 1169435.2568789686\n",
      "min: 721870\n",
      "max: 1941550\n",
      "\n",
      "y\n",
      "std: 83307.80760590668\n",
      "avg: 14570660.457956513\n",
      "min: 14387040\n",
      "max: 14767200\n",
      "\n",
      "Evapotranspiration\n",
      "std: 3.167133287231281\n",
      "avg: 2.6874908601116028\n",
      "min: 0.0\n",
      "max: 12.1\n",
      "\n",
      "Precipitation\n",
      "std: 10.512571361268662\n",
      "avg: 14.915468539542044\n",
      "min: 0.0\n",
      "max: 40.38\n",
      "\n",
      "Irrigation_pumping\n",
      "std: 0.27371714995088736\n",
      "avg: -0.090712565133731\n",
      "min: -3.1647\n",
      "max: 0.0\n",
      "\n",
      "Observed\n",
      "std: 56.273487440683574\n",
      "avg: 23.986753837712268\n",
      "min: -22.0\n",
      "max: 747.80328\n",
      "\n"
     ]
    }
   ],
   "source": [
    "print(f\"Columns: {', '.join(data.columns.values)}\")\n",
    "print()\n",
    "\n",
    "for header in data.columns:\n",
    "    print(header)\n",
    "    print(f\"std: {data[[header]].values.flatten().std()}\")\n",
    "    print(f\"avg: {data[[header]].values.flatten().mean()}\")\n",
    "    print(f\"min: {data[[header]].values.flatten().min()}\")\n",
    "    print(f\"max: {data[[header]].values.flatten().max()}\")\n",
    "    print()"
   ]
  },
  {
   "cell_type": "code",
   "execution_count": 10,
   "metadata": {},
   "outputs": [
    {
     "data": {
      "text/plain": [
       "LinearRegression(copy_X=True, fit_intercept=True, n_jobs=6, normalize=False)"
      ]
     },
     "execution_count": 10,
     "metadata": {},
     "output_type": "execute_result"
    }
   ],
   "source": [
    "model = LinearRegression(fit_intercept=True, n_jobs=6)\n",
    "model.fit(train_x, train_y)"
   ]
  },
  {
   "cell_type": "code",
   "execution_count": 17,
   "metadata": {},
   "outputs": [
    {
     "name": "stdout",
     "output_type": "stream",
     "text": [
      "MSE:  2661.7744\n",
      "MLE:     2.7882\n",
      "R^2:     0.2499\n"
     ]
    }
   ],
   "source": [
    "prediction_y = model.predict(validation_x).flatten()\n",
    "actual_y = validation_y.to_numpy().flatten()\n",
    "\n",
    "mean_squared_error = 0.\n",
    "mean_log_error = 0.\n",
    "for index in range(n := len(prediction_y)):\n",
    "    mean_squared_error += (prediction_y[index] - actual_y[index]) ** 2\n",
    "    mean_log_error += np.log(np.abs(prediction_y[index] - actual_y[index]))\n",
    "mean_squared_error /= n\n",
    "mean_log_error /= n\n",
    "\n",
    "r_squared = model.score(validation_x, validation_y)\n",
    "\n",
    "print(f\"MSE: {mean_squared_error:10.4f}\")\n",
    "print(f\"MLE: {mean_log_error:10.4f}\")\n",
    "print(f\"R^2: {r_squared:10.4f}\")"
   ]
  },
  {
   "cell_type": "code",
   "execution_count": null,
   "metadata": {},
   "outputs": [],
   "source": []
  }
 ],
 "metadata": {
  "kernelspec": {
   "display_name": "Python 3",
   "language": "python",
   "name": "python3"
  },
  "language_info": {
   "codemirror_mode": {
    "name": "ipython",
    "version": 3
   },
   "file_extension": ".py",
   "mimetype": "text/x-python",
   "name": "python",
   "nbconvert_exporter": "python",
   "pygments_lexer": "ipython3",
   "version": "3.8.1"
  }
 },
 "nbformat": 4,
 "nbformat_minor": 4
}
