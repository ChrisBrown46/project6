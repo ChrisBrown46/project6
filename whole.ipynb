{
 "cells": [
  {
   "cell_type": "markdown",
   "metadata": {},
   "source": [
    "# Introduction to Linear Regression\n",
    "\n",
    "*Notebook credit: https://github.com/justmarkham/DAT4*\n",
    "\n",
    "*Adapted from Chapter 3 of [An Introduction to Statistical Learning](http://www-bcf.usc.edu/~gareth/ISL/)*\n",
    "\n",
    "||continuous|categorical|\n",
    "|---|---|---|\n",
    "|**supervised**|**regression**|classification|\n",
    "|**unsupervised**|dimension reduction|clustering|\n",
    "\n",
    "## Motivation\n",
    "\n",
    "Why are we learning linear regression?\n",
    "- widely used\n",
    "- runs fast\n",
    "- easy to use (not a lot of tuning required)\n",
    "- highly interpretable\n",
    "- basis for many other methods\n",
    "\n",
    "## Libraries\n",
    "\n",
    "Will be using [Statsmodels](http://statsmodels.sourceforge.net/) for **teaching purposes** since it has some nice characteristics for linear modeling. However, we recommend that you spend most of your energy on [scikit-learn](http://scikit-learn.org/stable/) since it provides significantly more useful functionality for machine learning in general."
   ]
  },
  {
   "cell_type": "code",
   "execution_count": 1,
   "metadata": {},
   "outputs": [],
   "source": [
    "# imports\n",
    "import pandas as pd\n",
    "import matplotlib.pyplot as plt\n",
    "\n",
    "# this allows plots to appear directly in the notebook\n",
    "%matplotlib inline\n",
    "\n",
    "import seaborn as sns\n",
    "\n",
    "import statsmodels.formula.api as smf"
   ]
  },
  {
   "cell_type": "markdown",
   "metadata": {},
   "source": [
    "## Example: Advertising Data\n",
    "\n",
    "Let's take a look at some data, ask some questions about that data, and then use linear regression to answer those questions!"
   ]
  },
  {
   "cell_type": "code",
   "execution_count": 35,
   "metadata": {},
   "outputs": [
    {
     "data": {
      "text/html": [
       "<div>\n",
       "<style scoped>\n",
       "    .dataframe tbody tr th:only-of-type {\n",
       "        vertical-align: middle;\n",
       "    }\n",
       "\n",
       "    .dataframe tbody tr th {\n",
       "        vertical-align: top;\n",
       "    }\n",
       "\n",
       "    .dataframe thead th {\n",
       "        text-align: right;\n",
       "    }\n",
       "</style>\n",
       "<table border=\"1\" class=\"dataframe\">\n",
       "  <thead>\n",
       "    <tr style=\"text-align: right;\">\n",
       "      <th></th>\n",
       "      <th>Date</th>\n",
       "      <th>Segment_id</th>\n",
       "      <th>x</th>\n",
       "      <th>y</th>\n",
       "      <th>Evapotranspiration</th>\n",
       "      <th>Precipitation</th>\n",
       "      <th>Irrigation_pumping</th>\n",
       "      <th>Observed</th>\n",
       "      <th>Date_stand</th>\n",
       "      <th>Segment_id_stand</th>\n",
       "      <th>x_stand</th>\n",
       "      <th>y_stand</th>\n",
       "      <th>Evapotranspiration_stand</th>\n",
       "      <th>Precipitation_stand</th>\n",
       "      <th>Irrigation_pumping_stand</th>\n",
       "    </tr>\n",
       "  </thead>\n",
       "  <tbody>\n",
       "    <tr>\n",
       "      <th>0</th>\n",
       "      <td>710732.0</td>\n",
       "      <td>144.0</td>\n",
       "      <td>1086190.0</td>\n",
       "      <td>14476800.0</td>\n",
       "      <td>0.59</td>\n",
       "      <td>18.99</td>\n",
       "      <td>0.0</td>\n",
       "      <td>0.145161</td>\n",
       "      <td>-1.347816</td>\n",
       "      <td>0.329802</td>\n",
       "      <td>-0.2846</td>\n",
       "      <td>-1.126634</td>\n",
       "      <td>-0.662247</td>\n",
       "      <td>0.387574</td>\n",
       "      <td>0.331399</td>\n",
       "    </tr>\n",
       "    <tr>\n",
       "      <th>1</th>\n",
       "      <td>710763.0</td>\n",
       "      <td>144.0</td>\n",
       "      <td>1086190.0</td>\n",
       "      <td>14476800.0</td>\n",
       "      <td>0.97</td>\n",
       "      <td>29.63</td>\n",
       "      <td>0.0</td>\n",
       "      <td>0.445161</td>\n",
       "      <td>-1.342885</td>\n",
       "      <td>0.329802</td>\n",
       "      <td>-0.2846</td>\n",
       "      <td>-1.126634</td>\n",
       "      <td>-0.542268</td>\n",
       "      <td>1.399663</td>\n",
       "      <td>0.331399</td>\n",
       "    </tr>\n",
       "    <tr>\n",
       "      <th>2</th>\n",
       "      <td>710791.0</td>\n",
       "      <td>144.0</td>\n",
       "      <td>1086190.0</td>\n",
       "      <td>14476800.0</td>\n",
       "      <td>1.34</td>\n",
       "      <td>29.63</td>\n",
       "      <td>0.0</td>\n",
       "      <td>1.332203</td>\n",
       "      <td>-1.338432</td>\n",
       "      <td>0.329802</td>\n",
       "      <td>-0.2846</td>\n",
       "      <td>-1.126634</td>\n",
       "      <td>-0.425447</td>\n",
       "      <td>1.399663</td>\n",
       "      <td>0.331399</td>\n",
       "    </tr>\n",
       "    <tr>\n",
       "      <th>3</th>\n",
       "      <td>710822.0</td>\n",
       "      <td>144.0</td>\n",
       "      <td>1086190.0</td>\n",
       "      <td>14476800.0</td>\n",
       "      <td>1.79</td>\n",
       "      <td>29.63</td>\n",
       "      <td>0.0</td>\n",
       "      <td>2.932203</td>\n",
       "      <td>-1.333501</td>\n",
       "      <td>0.329802</td>\n",
       "      <td>-0.2846</td>\n",
       "      <td>-1.126634</td>\n",
       "      <td>-0.283367</td>\n",
       "      <td>1.399663</td>\n",
       "      <td>0.331399</td>\n",
       "    </tr>\n",
       "    <tr>\n",
       "      <th>4</th>\n",
       "      <td>710852.0</td>\n",
       "      <td>144.0</td>\n",
       "      <td>1086190.0</td>\n",
       "      <td>14476800.0</td>\n",
       "      <td>8.23</td>\n",
       "      <td>29.63</td>\n",
       "      <td>0.0</td>\n",
       "      <td>3.728689</td>\n",
       "      <td>-1.328730</td>\n",
       "      <td>0.329802</td>\n",
       "      <td>-0.2846</td>\n",
       "      <td>-1.126634</td>\n",
       "      <td>1.749952</td>\n",
       "      <td>1.399663</td>\n",
       "      <td>0.331399</td>\n",
       "    </tr>\n",
       "  </tbody>\n",
       "</table>\n",
       "</div>"
      ],
      "text/plain": [
       "       Date  Segment_id          x           y  Evapotranspiration  \\\n",
       "0  710732.0       144.0  1086190.0  14476800.0                0.59   \n",
       "1  710763.0       144.0  1086190.0  14476800.0                0.97   \n",
       "2  710791.0       144.0  1086190.0  14476800.0                1.34   \n",
       "3  710822.0       144.0  1086190.0  14476800.0                1.79   \n",
       "4  710852.0       144.0  1086190.0  14476800.0                8.23   \n",
       "\n",
       "   Precipitation  Irrigation_pumping  Observed  Date_stand  Segment_id_stand  \\\n",
       "0          18.99                 0.0  0.145161   -1.347816          0.329802   \n",
       "1          29.63                 0.0  0.445161   -1.342885          0.329802   \n",
       "2          29.63                 0.0  1.332203   -1.338432          0.329802   \n",
       "3          29.63                 0.0  2.932203   -1.333501          0.329802   \n",
       "4          29.63                 0.0  3.728689   -1.328730          0.329802   \n",
       "\n",
       "   x_stand   y_stand  Evapotranspiration_stand  Precipitation_stand  \\\n",
       "0  -0.2846 -1.126634                 -0.662247             0.387574   \n",
       "1  -0.2846 -1.126634                 -0.542268             1.399663   \n",
       "2  -0.2846 -1.126634                 -0.425447             1.399663   \n",
       "3  -0.2846 -1.126634                 -0.283367             1.399663   \n",
       "4  -0.2846 -1.126634                  1.749952             1.399663   \n",
       "\n",
       "   Irrigation_pumping_stand  \n",
       "0                  0.331399  \n",
       "1                  0.331399  \n",
       "2                  0.331399  \n",
       "3                  0.331399  \n",
       "4                  0.331399  "
      ]
     },
     "execution_count": 35,
     "metadata": {},
     "output_type": "execute_result"
    }
   ],
   "source": [
    "# read data into a DataFrame\n",
    "data = pd.read_csv('./data/RRCA_baseflow.csv')\n",
    "\n",
    "for key in data.keys():\n",
    "    data[key] = data[key].astype(float)\n",
    "    if key != 'Observed':\n",
    "        data[key +'_stand'] = (data[key] - data[key].mean())/data[key].std()\n",
    "\n",
    "data.head()"
   ]
  },
  {
   "cell_type": "code",
   "execution_count": 5,
   "metadata": {},
   "outputs": [
    {
     "data": {
      "text/plain": [
       "(15591, 8)"
      ]
     },
     "execution_count": 5,
     "metadata": {},
     "output_type": "execute_result"
    }
   ],
   "source": [
    "# print the shape of the DataFrame\n",
    "data.shape"
   ]
  },
  {
   "cell_type": "markdown",
   "metadata": {},
   "source": [
    "There are 200 **observations**, and thus 200 markets in the dataset."
   ]
  },
  {
   "cell_type": "code",
   "execution_count": 6,
   "metadata": {},
   "outputs": [
    {
     "data": {
      "text/plain": [
       "<matplotlib.axes._subplots.AxesSubplot at 0x1a1abcf438>"
      ]
     },
     "execution_count": 6,
     "metadata": {},
     "output_type": "execute_result"
    },
    {
     "data": {
      "image/png": "[encoded data removed]",
      "text/plain": [
       "<Figure size 1152x576 with 7 Axes>"
      ]
     },
     "metadata": {
      "needs_background": "light"
     },
     "output_type": "display_data"
    }
   ],
   "source": [
    "# visualize the relationship between the features and the response using scatterplots\n",
    "fig, axs = plt.subplots(1, 7, sharey=True)\n",
    "data.plot(kind='scatter', x='Date', y='Observed', ax=axs[0], figsize=(16, 8))\n",
    "data.plot(kind='scatter', x='Segment_id', y='Observed', ax=axs[1], figsize=(16, 8))\n",
    "data.plot(kind='scatter', x='x', y='Observed', ax=axs[2])\n",
    "data.plot(kind='scatter', x='y', y='Observed', ax=axs[3])\n",
    "data.plot(kind='scatter', x='Evapotranspiration', y='Observed', ax=axs[4])\n",
    "data.plot(kind='scatter', x='Precipitation', y='Observed', ax=axs[5])\n",
    "data.plot(kind='scatter', x='Irrigation_pumping', y='Observed', ax=axs[6])"
   ]
  },
  {
   "cell_type": "code",
   "execution_count": 16,
   "metadata": {},
   "outputs": [
    {
     "name": "stdout",
     "output_type": "stream",
     "text": [
      "1602.726914634389\n",
      "[-1.64089850e-03  3.43820238e-01  4.96823821e-06 -3.23607985e-05\n",
      " -7.09876619e-01  1.73631515e+00  4.43141563e+00]\n"
     ]
    }
   ],
   "source": [
    "# create X and y\n",
    "feature_cols = ['Date', 'Segment_id', 'x','y','Evapotranspiration','Precipitation','Irrigation_pumping']\n",
    "X = data[feature_cols]\n",
    "y = data.Observed\n",
    "\n",
    "# follow the usual sklearn pattern: import, instantiate, fit\n",
    "from sklearn.linear_model import LinearRegression\n",
    "lm = LinearRegression()\n",
    "lm.fit(X, y)\n",
    "\n",
    "# print intercept and coefficients\n",
    "print(lm.intercept_)\n",
    "print(lm.coef_)"
   ]
  },
  {
   "cell_type": "markdown",
   "metadata": {},
   "source": [
    "Thus, we would predict Sales of **9,409 widgets** in that market.\n",
    "\n",
    "Of course, we can also use Statsmodels to make the prediction:"
   ]
  },
  {
   "cell_type": "code",
   "execution_count": 19,
   "metadata": {},
   "outputs": [
    {
     "data": {
      "text/html": [
       "<div>\n",
       "<style scoped>\n",
       "    .dataframe tbody tr th:only-of-type {\n",
       "        vertical-align: middle;\n",
       "    }\n",
       "\n",
       "    .dataframe tbody tr th {\n",
       "        vertical-align: top;\n",
       "    }\n",
       "\n",
       "    .dataframe thead th {\n",
       "        text-align: right;\n",
       "    }\n",
       "</style>\n",
       "<table border=\"1\" class=\"dataframe\">\n",
       "  <thead>\n",
       "    <tr style=\"text-align: right;\">\n",
       "      <th></th>\n",
       "      <th>Date</th>\n",
       "      <th>Segment_id</th>\n",
       "      <th>x</th>\n",
       "      <th>y</th>\n",
       "      <th>Evapotranspiration</th>\n",
       "      <th>Precipitation</th>\n",
       "      <th>Irrigation_pumping</th>\n",
       "    </tr>\n",
       "  </thead>\n",
       "  <tbody>\n",
       "    <tr>\n",
       "      <th>0</th>\n",
       "      <td>710732</td>\n",
       "      <td>144</td>\n",
       "      <td>1086190</td>\n",
       "      <td>14476800</td>\n",
       "      <td>0.59</td>\n",
       "      <td>18.99</td>\n",
       "      <td>0.0</td>\n",
       "    </tr>\n",
       "    <tr>\n",
       "      <th>1</th>\n",
       "      <td>710763</td>\n",
       "      <td>144</td>\n",
       "      <td>1086190</td>\n",
       "      <td>14476800</td>\n",
       "      <td>0.97</td>\n",
       "      <td>29.63</td>\n",
       "      <td>0.0</td>\n",
       "    </tr>\n",
       "    <tr>\n",
       "      <th>2</th>\n",
       "      <td>710791</td>\n",
       "      <td>144</td>\n",
       "      <td>1086190</td>\n",
       "      <td>14476800</td>\n",
       "      <td>1.34</td>\n",
       "      <td>29.63</td>\n",
       "      <td>0.0</td>\n",
       "    </tr>\n",
       "    <tr>\n",
       "      <th>3</th>\n",
       "      <td>710822</td>\n",
       "      <td>144</td>\n",
       "      <td>1086190</td>\n",
       "      <td>14476800</td>\n",
       "      <td>1.79</td>\n",
       "      <td>29.63</td>\n",
       "      <td>0.0</td>\n",
       "    </tr>\n",
       "    <tr>\n",
       "      <th>4</th>\n",
       "      <td>710852</td>\n",
       "      <td>144</td>\n",
       "      <td>1086190</td>\n",
       "      <td>14476800</td>\n",
       "      <td>8.23</td>\n",
       "      <td>29.63</td>\n",
       "      <td>0.0</td>\n",
       "    </tr>\n",
       "  </tbody>\n",
       "</table>\n",
       "</div>"
      ],
      "text/plain": [
       "     Date  Segment_id        x         y  Evapotranspiration  Precipitation  \\\n",
       "0  710732         144  1086190  14476800                0.59          18.99   \n",
       "1  710763         144  1086190  14476800                0.97          29.63   \n",
       "2  710791         144  1086190  14476800                1.34          29.63   \n",
       "3  710822         144  1086190  14476800                1.79          29.63   \n",
       "4  710852         144  1086190  14476800                8.23          29.63   \n",
       "\n",
       "   Irrigation_pumping  \n",
       "0                 0.0  \n",
       "1                 0.0  \n",
       "2                 0.0  \n",
       "3                 0.0  \n",
       "4                 0.0  "
      ]
     },
     "metadata": {},
     "output_type": "display_data"
    },
    {
     "data": {
      "text/html": [
       "<div>\n",
       "<style scoped>\n",
       "    .dataframe tbody tr th:only-of-type {\n",
       "        vertical-align: middle;\n",
       "    }\n",
       "\n",
       "    .dataframe tbody tr th {\n",
       "        vertical-align: top;\n",
       "    }\n",
       "\n",
       "    .dataframe thead th {\n",
       "        text-align: right;\n",
       "    }\n",
       "</style>\n",
       "<table border=\"1\" class=\"dataframe\">\n",
       "  <thead>\n",
       "    <tr style=\"text-align: right;\">\n",
       "      <th></th>\n",
       "      <th>Date</th>\n",
       "      <th>Segment_id</th>\n",
       "      <th>x</th>\n",
       "      <th>y</th>\n",
       "      <th>Evapotranspiration</th>\n",
       "      <th>Precipitation</th>\n",
       "      <th>Irrigation_pumping</th>\n",
       "      <th>Observed</th>\n",
       "    </tr>\n",
       "  </thead>\n",
       "  <tbody>\n",
       "    <tr>\n",
       "      <th>0</th>\n",
       "      <td>710732</td>\n",
       "      <td>144</td>\n",
       "      <td>1086190</td>\n",
       "      <td>14476800</td>\n",
       "      <td>0.59</td>\n",
       "      <td>18.99</td>\n",
       "      <td>0.0</td>\n",
       "      <td>0.145161</td>\n",
       "    </tr>\n",
       "    <tr>\n",
       "      <th>1</th>\n",
       "      <td>710763</td>\n",
       "      <td>144</td>\n",
       "      <td>1086190</td>\n",
       "      <td>14476800</td>\n",
       "      <td>0.97</td>\n",
       "      <td>29.63</td>\n",
       "      <td>0.0</td>\n",
       "      <td>0.445161</td>\n",
       "    </tr>\n",
       "    <tr>\n",
       "      <th>2</th>\n",
       "      <td>710791</td>\n",
       "      <td>144</td>\n",
       "      <td>1086190</td>\n",
       "      <td>14476800</td>\n",
       "      <td>1.34</td>\n",
       "      <td>29.63</td>\n",
       "      <td>0.0</td>\n",
       "      <td>1.332203</td>\n",
       "    </tr>\n",
       "    <tr>\n",
       "      <th>3</th>\n",
       "      <td>710822</td>\n",
       "      <td>144</td>\n",
       "      <td>1086190</td>\n",
       "      <td>14476800</td>\n",
       "      <td>1.79</td>\n",
       "      <td>29.63</td>\n",
       "      <td>0.0</td>\n",
       "      <td>2.932203</td>\n",
       "    </tr>\n",
       "    <tr>\n",
       "      <th>4</th>\n",
       "      <td>710852</td>\n",
       "      <td>144</td>\n",
       "      <td>1086190</td>\n",
       "      <td>14476800</td>\n",
       "      <td>8.23</td>\n",
       "      <td>29.63</td>\n",
       "      <td>0.0</td>\n",
       "      <td>3.728689</td>\n",
       "    </tr>\n",
       "  </tbody>\n",
       "</table>\n",
       "</div>"
      ],
      "text/plain": [
       "     Date  Segment_id        x         y  Evapotranspiration  Precipitation  \\\n",
       "0  710732         144  1086190  14476800                0.59          18.99   \n",
       "1  710763         144  1086190  14476800                0.97          29.63   \n",
       "2  710791         144  1086190  14476800                1.34          29.63   \n",
       "3  710822         144  1086190  14476800                1.79          29.63   \n",
       "4  710852         144  1086190  14476800                8.23          29.63   \n",
       "\n",
       "   Irrigation_pumping  Observed  \n",
       "0                 0.0  0.145161  \n",
       "1                 0.0  0.445161  \n",
       "2                 0.0  1.332203  \n",
       "3                 0.0  2.932203  \n",
       "4                 0.0  3.728689  "
      ]
     },
     "metadata": {},
     "output_type": "display_data"
    }
   ],
   "source": [
    "X_new = data.iloc[:5,:-1]\n",
    "display(X_new)\n",
    "display(data.iloc[:5,:])"
   ]
  },
  {
   "cell_type": "code",
   "execution_count": 20,
   "metadata": {},
   "outputs": [
    {
     "data": {
      "text/plain": [
       "array([55.46739567, 73.62116785, 73.31256834, 72.94225601, 68.32142363])"
      ]
     },
     "execution_count": 20,
     "metadata": {},
     "output_type": "execute_result"
    }
   ],
   "source": [
    "# use the model to make predictions on a new value\n",
    "lm.predict(X_new.values)"
   ]
  },
  {
   "cell_type": "markdown",
   "metadata": {},
   "source": [
    "## Confidence in our Model\n",
    "\n",
    "**Question:** Is linear regression a high bias/low variance model, or a low bias/high variance model?\n",
    "\n",
    "**Answer:** High bias/low variance. Under repeated sampling, the line will stay roughly in the same place (low variance), but the average of those models won't do a great job capturing the true relationship (high bias). Note that low variance is a useful characteristic when you don't have a lot of training data!\n",
    "\n",
    "A closely related concept is **confidence intervals**. Statsmodels calculates 95% confidence intervals for our model coefficients, which are interpreted as follows: If the population from which this sample was drawn was **sampled 100 times**, approximately **95 of those samplings** would fall inside the confidence interval.\n",
    "\n",
    "**statsmodels** is a handy library to compute things like this."
   ]
  },
  {
   "cell_type": "code",
   "execution_count": 63,
   "metadata": {},
   "outputs": [
    {
     "data": {
      "text/plain": [
       "Intercept             1652.375295\n",
       "Date                    -0.001609\n",
       "Segment_id               0.350043\n",
       "x                        0.000006\n",
       "y                       -0.000038\n",
       "Evapotranspiration      -0.483965\n",
       "Precipitation            1.734190\n",
       "Irrigation_pumping       5.963994\n",
       "dtype: float64"
      ]
     },
     "metadata": {},
     "output_type": "display_data"
    },
    {
     "data": {
      "text/html": [
       "<div>\n",
       "<style scoped>\n",
       "    .dataframe tbody tr th:only-of-type {\n",
       "        vertical-align: middle;\n",
       "    }\n",
       "\n",
       "    .dataframe tbody tr th {\n",
       "        vertical-align: top;\n",
       "    }\n",
       "\n",
       "    .dataframe thead th {\n",
       "        text-align: right;\n",
       "    }\n",
       "</style>\n",
       "<table border=\"1\" class=\"dataframe\">\n",
       "  <thead>\n",
       "    <tr style=\"text-align: right;\">\n",
       "      <th></th>\n",
       "      <th>0</th>\n",
       "      <th>1</th>\n",
       "    </tr>\n",
       "  </thead>\n",
       "  <tbody>\n",
       "    <tr>\n",
       "      <th>Intercept</th>\n",
       "      <td>1455.450720</td>\n",
       "      <td>1849.299869</td>\n",
       "    </tr>\n",
       "    <tr>\n",
       "      <th>Date</th>\n",
       "      <td>-0.001754</td>\n",
       "      <td>-0.001464</td>\n",
       "    </tr>\n",
       "    <tr>\n",
       "      <th>Segment_id</th>\n",
       "      <td>0.332803</td>\n",
       "      <td>0.367284</td>\n",
       "    </tr>\n",
       "    <tr>\n",
       "      <th>x</th>\n",
       "      <td>0.000003</td>\n",
       "      <td>0.000009</td>\n",
       "    </tr>\n",
       "    <tr>\n",
       "      <th>y</th>\n",
       "      <td>-0.000049</td>\n",
       "      <td>-0.000026</td>\n",
       "    </tr>\n",
       "    <tr>\n",
       "      <th>Evapotranspiration</th>\n",
       "      <td>-0.838456</td>\n",
       "      <td>-0.129475</td>\n",
       "    </tr>\n",
       "    <tr>\n",
       "      <th>Precipitation</th>\n",
       "      <td>1.635467</td>\n",
       "      <td>1.832913</td>\n",
       "    </tr>\n",
       "    <tr>\n",
       "      <th>Irrigation_pumping</th>\n",
       "      <td>2.190109</td>\n",
       "      <td>9.737878</td>\n",
       "    </tr>\n",
       "  </tbody>\n",
       "</table>\n",
       "</div>"
      ],
      "text/plain": [
       "                              0            1\n",
       "Intercept           1455.450720  1849.299869\n",
       "Date                  -0.001754    -0.001464\n",
       "Segment_id             0.332803     0.367284\n",
       "x                      0.000003     0.000009\n",
       "y                     -0.000049    -0.000026\n",
       "Evapotranspiration    -0.838456    -0.129475\n",
       "Precipitation          1.635467     1.832913\n",
       "Irrigation_pumping     2.190109     9.737878"
      ]
     },
     "metadata": {},
     "output_type": "display_data"
    }
   ],
   "source": [
    "# this is the standard import if you're using \"formula notation\" (similar to R)\n",
    "import statsmodels.formula.api as smf\n",
    "\n",
    "# create a fitted model in one line\n",
    "lm = smf.ols(formula='Observed ~ Date + Segment_id + x + y + Evapotranspiration + Precipitation + Irrigation_pumping', data=data).fit()\n",
    "\n",
    "# print the coefficients\n",
    "display(lm.params)\n",
    "\n",
    "# print the confidence intervals for the model coefficients\n",
    "display(lm.conf_int())"
   ]
  },
  {
   "cell_type": "markdown",
   "metadata": {},
   "source": [
    "Keep in mind that we only have a **single sample of data**, and not the **entire population of data**. The \"true\" coefficient is either within this interval or it isn't, but there's no way to actually know. We estimate the coefficient with the data we do have, and we show uncertainty about that estimate by giving a range that the coefficient is **probably** within.\n",
    "\n",
    "Note that using 95% confidence intervals is just a convention. You can create 90% confidence intervals (which will be more narrow), 99% confidence intervals (which will be wider), or whatever intervals you like."
   ]
  },
  {
   "cell_type": "markdown",
   "metadata": {},
   "source": [
    "We can plot confidence intervals using **Seaborn**. The confidence intervals are computed a little differently: the data is binned according to the independent variable and then a band containing 95% of the means of the bin is shown."
   ]
  },
  {
   "cell_type": "code",
   "execution_count": 21,
   "metadata": {},
   "outputs": [
    {
     "name": "stderr",
     "output_type": "stream",
     "text": [
      "/anaconda3/lib/python3.7/site-packages/scipy/stats/stats.py:1713: FutureWarning: Using a non-tuple sequence for multidimensional indexing is deprecated; use `arr[tuple(seq)]` instead of `arr[seq]`. In the future this will be interpreted as an array index, `arr[np.array(seq)]`, which will result either in an error or a different result.\n",
      "  return np.add.reduce(sorted[indexer] * weights, axis=axis) / sumval\n"
     ]
    },
    {
     "data": {
      "image/png": "[encoded data removed]",
      "text/plain": [
       "<Figure size 432x288 with 1 Axes>"
      ]
     },
     "metadata": {
      "needs_background": "light"
     },
     "output_type": "display_data"
    },
    {
     "data": {
      "image/png": "[encoded data removed]",
      "text/plain": [
       "<Figure size 432x288 with 1 Axes>"
      ]
     },
     "metadata": {
      "needs_background": "light"
     },
     "output_type": "display_data"
    }
   ],
   "source": [
    "import seaborn as sns\n",
    "\n",
    "plt.figure()\n",
    "ax = sns.regplot(x='Evapotranspiration', y='Observed', data=data)\n",
    "\n",
    "plt.figure()\n",
    "ax = sns.regplot(x='Precipitation', y='Observed', data=data)\n"
   ]
  },
  {
   "cell_type": "markdown",
   "metadata": {},
   "source": [
    "Note that the shaded region shows all possible regression curves within the 95% confidence interval"
   ]
  },
  {
   "cell_type": "markdown",
   "metadata": {},
   "source": [
    "## Hypothesis Testing and p-values\n",
    "\n",
    "Closely related to confidence intervals is **hypothesis testing**. Generally speaking, you start with a **null hypothesis** and an **alternative hypothesis** (that is opposite the null). Then, you check whether the data supports **rejecting the null hypothesis** or **failing to reject the null hypothesis**.\n",
    "\n",
    "(Note that \"failing to reject\" the null is not the same as \"accepting\" the null hypothesis. The alternative hypothesis may indeed be true, except that you just don't have enough data to show that.)\n",
    "\n",
    "As it relates to model coefficients, here is the conventional hypothesis test:\n",
    "- **null hypothesis:** There is no relationship between TV ads and Sales (and thus $\\beta_1$ equals zero)\n",
    "- **alternative hypothesis:** There is a relationship between TV ads and Sales (and thus $\\beta_1$ is not equal to zero)\n",
    "\n",
    "How do we test this hypothesis? Intuitively, we reject the null (and thus believe the alternative) if the 95% confidence interval **does not include zero**. Conversely, the **p-value** represents the probability that the coefficient is actually zero:"
   ]
  },
  {
   "cell_type": "code",
   "execution_count": 99,
   "metadata": {},
   "outputs": [
    {
     "data": {
      "text/plain": [
       "Intercept    1.406300e-35\n",
       "TV           1.467390e-42\n",
       "dtype: float64"
      ]
     },
     "execution_count": 99,
     "metadata": {},
     "output_type": "execute_result"
    }
   ],
   "source": [
    "lm = smf.ols(formula='sales ~ TV', data=data).fit()\n",
    "# print the p-values for the model coefficients\n",
    "lm.pvalues"
   ]
  },
  {
   "cell_type": "markdown",
   "metadata": {},
   "source": [
    "If the 95% confidence interval **includes zero**, the p-value for that coefficient will be **greater than 0.05**. If the 95% confidence interval **does not include zero**, the p-value will be **less than 0.05**. Thus, a p-value less than 0.05 is one way to decide whether there is likely a relationship between the feature and the response. (Again, using 0.05 as the cutoff is just a convention.)\n",
    "\n",
    "In this case, the p-value for TV is far less than 0.05, and so we **believe** that there is a relationship between TV ads and Sales.\n",
    "\n",
    "Note that we generally ignore the p-value for the intercept.\n",
    "\n",
    "Note also that **p-values** and **confidence intervals** are not (easily) accessible through scikit-learn."
   ]
  },
  {
   "cell_type": "markdown",
   "metadata": {},
   "source": [
    "## How Well Does the Model Fit the data? (R-squared)\n",
    "\n",
    "The most common way to evaluate the overall fit of a linear model is by the **R-squared** value. R-squared is the **proportion of variance explained**, meaning the proportion of variance in the observed data that is explained by the model, or the reduction in error over the **null model**. (The null model just predicts the mean of the observed response, and thus it has an intercept and no slope.)\n",
    "\n",
    "$R^2 = 1 - \\frac{\\text{residual}}{\\text{total variation}} = \\frac{\\sum_{i=1}^N (y_i-\\hat{y}_i)^2}{\\sum_{i=1}^N (y_i-\\overline{y})^2}$\n",
    "\n",
    "where $\\overline{y}$ is the average value and $\\hat{y}_i$ is the predicted value.\n",
    "\n",
    "R-squared is between 0 and 1, and higher is better because it means that more variance is explained by the model. This is a way of normalizing the raw residual. Here's an example of what R-squared \"looks like\":"
   ]
  },
  {
   "cell_type": "markdown",
   "metadata": {},
   "source": [
    "<img src=\"08_r_squared.png\">"
   ]
  },
  {
   "cell_type": "markdown",
   "metadata": {},
   "source": [
    "You can see that the **blue line** explains some of the variance in the data (R-squared=0.54), the **green line** explains more of the variance (R-squared=0.64), and the **red line** fits the training data even further (R-squared=0.66). (Does the red line look like it's overfitting?)\n",
    "\n",
    "Let's calculate the R-squared value for our simple linear model:"
   ]
  },
  {
   "cell_type": "code",
   "execution_count": 20,
   "metadata": {},
   "outputs": [
    {
     "data": {
      "text/plain": [
       "0.611875050850071"
      ]
     },
     "metadata": {},
     "output_type": "display_data"
    },
    {
     "data": {
      "text/plain": [
       "0.611875050850071"
      ]
     },
     "metadata": {},
     "output_type": "display_data"
    }
   ],
   "source": [
    "# Print the R-squared value for the model using statsmodels\n",
    "lm = smf.ols(formula='sales ~ TV', data=data).fit()\n",
    "display(lm.rsquared)\n",
    "\n",
    "# Print the R-squared value for the model using sklearn\n",
    "lm = LinearRegression()\n",
    "lm.fit(data[['TV']], data.sales)\n",
    "display(lm.score(data[['TV']], data.sales))"
   ]
  },
  {
   "cell_type": "markdown",
   "metadata": {},
   "source": [
    "Is that a \"good\" R-squared value? It's hard to say. The threshold for a good R-squared value depends widely on the domain. Therefore, it's most useful as a tool for **comparing different models**."
   ]
  },
  {
   "cell_type": "markdown",
   "metadata": {},
   "source": [
    "## Multiple Linear Regression\n",
    "\n",
    "Simple linear regression can easily be extended to include multiple features. This is called **multiple linear regression**:\n",
    "\n",
    "$y = \\beta_0 + \\beta_1x_1 + ... + \\beta_nx_n$\n",
    "\n",
    "Each $x$ represents a different feature, and each feature has its own coefficient. In this case:\n",
    "\n",
    "$y = \\beta_0 + \\beta_1 \\times TV + \\beta_2 \\times Radio + \\beta_3 \\times Newspaper$\n",
    "\n",
    "Let's use sklearn to estimate these coefficients:"
   ]
  },
  {
   "cell_type": "code",
   "execution_count": 14,
   "metadata": {},
   "outputs": [
    {
     "data": {
      "text/plain": [
       "1602.726914634389"
      ]
     },
     "metadata": {},
     "output_type": "display_data"
    },
    {
     "data": {
      "text/plain": [
       "[('Date', -0.0016408985008362882),\n",
       " ('Segment_id', 0.3438202376937697),\n",
       " ('x', 4.968238209305363e-06),\n",
       " ('y', -3.2360798516160734e-05),\n",
       " ('Evapotranspiration', -0.7098766194415026),\n",
       " ('Precipitation', 1.736315145348328),\n",
       " ('Irrigation_pumping', 4.431415630520664)]"
      ]
     },
     "metadata": {},
     "output_type": "display_data"
    }
   ],
   "source": [
    "# create X and y\n",
    "feature_cols = ['Date', 'Segment_id', 'x','y','Evapotranspiration','Precipitation','Irrigation_pumping']\n",
    "X = data[feature_cols]\n",
    "y = data.Observed\n",
    "\n",
    "# follow the usual sklearn pattern: import, instantiate, fit\n",
    "from sklearn.linear_model import LinearRegression\n",
    "lm = LinearRegression()\n",
    "lm.fit(X, y)\n",
    "\n",
    "# print intercept and coefficients\n",
    "display(lm.intercept_)\n",
    "display(list(zip(feature_cols, lm.coef_)))\n"
   ]
  },
  {
   "cell_type": "markdown",
   "metadata": {},
   "source": [
    "How do we interpret these coefficients? For a given amount of Radio and Newspaper ad spending, an **increase of $1000 in TV ad spending** is associated with an **increase in Sales of 45.765 widgets**.\n",
    "\n",
    "A lot of the information we have been reviewing piece-by-piece is available in the model summary output using statsmodels:"
   ]
  },
  {
   "cell_type": "code",
   "execution_count": 25,
   "metadata": {},
   "outputs": [
    {
     "name": "stdout",
     "output_type": "stream",
     "text": [
      "params:\n"
     ]
    },
    {
     "data": {
      "text/plain": [
       "Intercept             1602.726915\n",
       "Date                    -0.001641\n",
       "Segment_id               0.343820\n",
       "x                        0.000005\n",
       "y                       -0.000032\n",
       "Evapotranspiration      -0.709877\n",
       "Precipitation            1.736315\n",
       "Irrigation_pumping       4.431416\n",
       "dtype: float64"
      ]
     },
     "metadata": {},
     "output_type": "display_data"
    },
    {
     "name": "stdout",
     "output_type": "stream",
     "text": [
      "\n",
      "pvalues:\n"
     ]
    },
    {
     "data": {
      "text/plain": [
       "Intercept              5.802495e-71\n",
       "Date                  1.236333e-134\n",
       "Segment_id             0.000000e+00\n",
       "x                      4.912426e-04\n",
       "y                      9.603538e-10\n",
       "Evapotranspiration     1.011407e-05\n",
       "Precipitation          0.000000e+00\n",
       "Irrigation_pumping     1.009044e-02\n",
       "dtype: float64"
      ]
     },
     "metadata": {},
     "output_type": "display_data"
    },
    {
     "name": "stdout",
     "output_type": "stream",
     "text": [
      "\n",
      "rsquared:\n"
     ]
    },
    {
     "data": {
      "text/plain": [
       "0.2356121961555283"
      ]
     },
     "metadata": {},
     "output_type": "display_data"
    },
    {
     "name": "stdout",
     "output_type": "stream",
     "text": [
      "\n"
     ]
    },
    {
     "data": {
      "text/html": [
       "<table class=\"simpletable\">\n",
       "<caption>OLS Regression Results</caption>\n",
       "<tr>\n",
       "  <th>Dep. Variable:</th>        <td>Observed</td>     <th>  R-squared:         </th> <td>   0.236</td> \n",
       "</tr>\n",
       "<tr>\n",
       "  <th>Model:</th>                   <td>OLS</td>       <th>  Adj. R-squared:    </th> <td>   0.235</td> \n",
       "</tr>\n",
       "<tr>\n",
       "  <th>Method:</th>             <td>Least Squares</td>  <th>  F-statistic:       </th> <td>   686.2</td> \n",
       "</tr>\n",
       "<tr>\n",
       "  <th>Date:</th>             <td>Mon, 09 Mar 2020</td> <th>  Prob (F-statistic):</th>  <td>  0.00</td>  \n",
       "</tr>\n",
       "<tr>\n",
       "  <th>Time:</th>                 <td>23:00:36</td>     <th>  Log-Likelihood:    </th> <td> -82863.</td> \n",
       "</tr>\n",
       "<tr>\n",
       "  <th>No. Observations:</th>      <td> 15591</td>      <th>  AIC:               </th> <td>1.657e+05</td>\n",
       "</tr>\n",
       "<tr>\n",
       "  <th>Df Residuals:</th>          <td> 15583</td>      <th>  BIC:               </th> <td>1.658e+05</td>\n",
       "</tr>\n",
       "<tr>\n",
       "  <th>Df Model:</th>              <td>     7</td>      <th>                     </th>     <td> </td>    \n",
       "</tr>\n",
       "<tr>\n",
       "  <th>Covariance Type:</th>      <td>nonrobust</td>    <th>                     </th>     <td> </td>    \n",
       "</tr>\n",
       "</table>\n",
       "<table class=\"simpletable\">\n",
       "<tr>\n",
       "           <td></td>             <th>coef</th>     <th>std err</th>      <th>t</th>      <th>P>|t|</th>  <th>[0.025</th>    <th>0.975]</th>  \n",
       "</tr>\n",
       "<tr>\n",
       "  <th>Intercept</th>          <td> 1602.7269</td> <td>   89.526</td> <td>   17.902</td> <td> 0.000</td> <td> 1427.246</td> <td> 1778.208</td>\n",
       "</tr>\n",
       "<tr>\n",
       "  <th>Date</th>               <td>   -0.0016</td> <td> 6.58e-05</td> <td>  -24.938</td> <td> 0.000</td> <td>   -0.002</td> <td>   -0.002</td>\n",
       "</tr>\n",
       "<tr>\n",
       "  <th>Segment_id</th>         <td>    0.3438</td> <td>    0.008</td> <td>   44.019</td> <td> 0.000</td> <td>    0.329</td> <td>    0.359</td>\n",
       "</tr>\n",
       "<tr>\n",
       "  <th>x</th>                  <td> 4.968e-06</td> <td> 1.43e-06</td> <td>    3.486</td> <td> 0.000</td> <td> 2.17e-06</td> <td> 7.76e-06</td>\n",
       "</tr>\n",
       "<tr>\n",
       "  <th>y</th>                  <td>-3.236e-05</td> <td> 5.29e-06</td> <td>   -6.120</td> <td> 0.000</td> <td>-4.27e-05</td> <td> -2.2e-05</td>\n",
       "</tr>\n",
       "<tr>\n",
       "  <th>Evapotranspiration</th> <td>   -0.7099</td> <td>    0.161</td> <td>   -4.416</td> <td> 0.000</td> <td>   -1.025</td> <td>   -0.395</td>\n",
       "</tr>\n",
       "<tr>\n",
       "  <th>Precipitation</th>      <td>    1.7363</td> <td>    0.045</td> <td>   38.774</td> <td> 0.000</td> <td>    1.649</td> <td>    1.824</td>\n",
       "</tr>\n",
       "<tr>\n",
       "  <th>Irrigation_pumping</th> <td>    4.4314</td> <td>    1.722</td> <td>    2.573</td> <td> 0.010</td> <td>    1.056</td> <td>    7.807</td>\n",
       "</tr>\n",
       "</table>\n",
       "<table class=\"simpletable\">\n",
       "<tr>\n",
       "  <th>Omnibus:</th>       <td>18011.647</td> <th>  Durbin-Watson:     </th>  <td>   0.061</td>  \n",
       "</tr>\n",
       "<tr>\n",
       "  <th>Prob(Omnibus):</th>  <td> 0.000</td>   <th>  Jarque-Bera (JB):  </th> <td>2092260.649</td>\n",
       "</tr>\n",
       "<tr>\n",
       "  <th>Skew:</th>           <td> 6.073</td>   <th>  Prob(JB):          </th>  <td>    0.00</td>  \n",
       "</tr>\n",
       "<tr>\n",
       "  <th>Kurtosis:</th>       <td>58.436</td>   <th>  Cond. No.          </th>  <td>3.32e+09</td>  \n",
       "</tr>\n",
       "</table><br/><br/>Warnings:<br/>[1] Standard Errors assume that the covariance matrix of the errors is correctly specified.<br/>[2] The condition number is large, 3.32e+09. This might indicate that there are<br/>strong multicollinearity or other numerical problems."
      ],
      "text/plain": [
       "<class 'statsmodels.iolib.summary.Summary'>\n",
       "\"\"\"\n",
       "                            OLS Regression Results                            \n",
       "==============================================================================\n",
       "Dep. Variable:               Observed   R-squared:                       0.236\n",
       "Model:                            OLS   Adj. R-squared:                  0.235\n",
       "Method:                 Least Squares   F-statistic:                     686.2\n",
       "Date:                Mon, 09 Mar 2020   Prob (F-statistic):               0.00\n",
       "Time:                        23:00:36   Log-Likelihood:                -82863.\n",
       "No. Observations:               15591   AIC:                         1.657e+05\n",
       "Df Residuals:                   15583   BIC:                         1.658e+05\n",
       "Df Model:                           7                                         \n",
       "Covariance Type:            nonrobust                                         \n",
       "======================================================================================\n",
       "                         coef    std err          t      P>|t|      [0.025      0.975]\n",
       "--------------------------------------------------------------------------------------\n",
       "Intercept           1602.7269     89.526     17.902      0.000    1427.246    1778.208\n",
       "Date                  -0.0016   6.58e-05    -24.938      0.000      -0.002      -0.002\n",
       "Segment_id             0.3438      0.008     44.019      0.000       0.329       0.359\n",
       "x                   4.968e-06   1.43e-06      3.486      0.000    2.17e-06    7.76e-06\n",
       "y                  -3.236e-05   5.29e-06     -6.120      0.000   -4.27e-05    -2.2e-05\n",
       "Evapotranspiration    -0.7099      0.161     -4.416      0.000      -1.025      -0.395\n",
       "Precipitation          1.7363      0.045     38.774      0.000       1.649       1.824\n",
       "Irrigation_pumping     4.4314      1.722      2.573      0.010       1.056       7.807\n",
       "==============================================================================\n",
       "Omnibus:                    18011.647   Durbin-Watson:                   0.061\n",
       "Prob(Omnibus):                  0.000   Jarque-Bera (JB):          2092260.649\n",
       "Skew:                           6.073   Prob(JB):                         0.00\n",
       "Kurtosis:                      58.436   Cond. No.                     3.32e+09\n",
       "==============================================================================\n",
       "\n",
       "Warnings:\n",
       "[1] Standard Errors assume that the covariance matrix of the errors is correctly specified.\n",
       "[2] The condition number is large, 3.32e+09. This might indicate that there are\n",
       "strong multicollinearity or other numerical problems.\n",
       "\"\"\""
      ]
     },
     "execution_count": 25,
     "metadata": {},
     "output_type": "execute_result"
    }
   ],
   "source": [
    "# create a fitted model with all three features\n",
    "lm = smf.ols(formula='Observed ~ Date + Segment_id + x + y + Evapotranspiration + Precipitation + Irrigation_pumping', data=data).fit()\n",
    "\n",
    "# print the coefficients\n",
    "print('params:')\n",
    "display(lm.params)\n",
    "print()\n",
    "\n",
    "print('pvalues:')\n",
    "display(lm.pvalues)\n",
    "print()\n",
    "\n",
    "print('rsquared:')\n",
    "display(lm.rsquared)\n",
    "print()\n",
    "\n",
    "# print a summary of the fitted model\n",
    "lm.summary()"
   ]
  },
  {
   "cell_type": "markdown",
   "metadata": {},
   "source": [
    "What are a few key things we learn from this output?\n",
    "\n",
    "- TV and Radio have significant **p-values**, whereas Newspaper does not. Thus we reject the null hypothesis for TV and Radio (that there is no association between those features and Sales), and fail to reject the null hypothesis for Newspaper.\n",
    "- TV and Radio ad spending are both **positively associated** with Sales, whereas Newspaper ad spending is **slightly negatively associated** with Sales. (However, this is irrelevant since we have failed to reject the null hypothesis for Newspaper.)\n",
    "- This model has a higher **R-squared** (0.897) than the previous model, which means that this model provides a better fit to the data than a model that only includes TV."
   ]
  },
  {
   "cell_type": "markdown",
   "metadata": {},
   "source": [
    "## Feature Selection\n",
    "\n",
    "How do I decide **which features to include** in a linear model? Here's one idea:\n",
    "- Try different models, and only keep predictors in the model if they have small p-values.\n",
    "- Check whether the R-squared value goes up when you add new predictors.\n",
    "\n",
    "What are the **drawbacks** to this approach?\n",
    "- Linear models rely upon a lot of **assumptions** (such as the features being independent), and if those assumptions are violated (which they usually are), R-squared and p-values are less reliable.\n",
    "- Using a p-value cutoff of 0.05 means that if you add 100 predictors to a model that are **pure noise**, 5 of them (on average) will still be counted as significant.\n",
    "- R-squared is susceptible to **overfitting**, and thus there is no guarantee that a model with a high R-squared value will generalize. Below is an example:"
   ]
  },
  {
   "cell_type": "code",
   "execution_count": 43,
   "metadata": {},
   "outputs": [
    {
     "data": {
      "text/plain": [
       "0.05476665414214921"
      ]
     },
     "execution_count": 43,
     "metadata": {},
     "output_type": "execute_result"
    }
   ],
   "source": [
    "# only include TV and Radio in the model\n",
    "lm = smf.ols(formula='Observed ~ Date', data=data).fit()\n",
    "lm.rsquared"
   ]
  },
  {
   "cell_type": "code",
   "execution_count": 44,
   "metadata": {},
   "outputs": [
    {
     "data": {
      "text/plain": [
       "0.11418908404291128"
      ]
     },
     "execution_count": 44,
     "metadata": {},
     "output_type": "execute_result"
    }
   ],
   "source": [
    "# add Newspaper to the model (which we believe has no association with Sales)\n",
    "lm = smf.ols(formula='Observed ~ Segment_id', data=data).fit()\n",
    "lm.rsquared"
   ]
  },
  {
   "cell_type": "code",
   "execution_count": 45,
   "metadata": {},
   "outputs": [
    {
     "data": {
      "text/plain": [
       "0.008031031037175618"
      ]
     },
     "execution_count": 45,
     "metadata": {},
     "output_type": "execute_result"
    }
   ],
   "source": [
    "# add Newspaper to the model (which we believe has no association with Sales)\n",
    "lm = smf.ols(formula='Observed ~ x', data=data).fit()\n",
    "lm.rsquared"
   ]
  },
  {
   "cell_type": "code",
   "execution_count": 46,
   "metadata": {},
   "outputs": [
    {
     "data": {
      "text/plain": [
       "0.010353299250547288"
      ]
     },
     "execution_count": 46,
     "metadata": {},
     "output_type": "execute_result"
    }
   ],
   "source": [
    "# add Newspaper to the model (which we believe has no association with Sales)\n",
    "lm = smf.ols(formula='Observed ~ y', data=data).fit()\n",
    "lm.rsquared"
   ]
  },
  {
   "cell_type": "code",
   "execution_count": 47,
   "metadata": {},
   "outputs": [
    {
     "data": {
      "text/plain": [
       "0.00387479210956565"
      ]
     },
     "execution_count": 47,
     "metadata": {},
     "output_type": "execute_result"
    }
   ],
   "source": [
    "# add Newspaper to the model (which we believe has no association with Sales)\n",
    "lm = smf.ols(formula='Observed ~ Evapotranspiration', data=data).fit()\n",
    "lm.rsquared"
   ]
  },
  {
   "cell_type": "code",
   "execution_count": 48,
   "metadata": {},
   "outputs": [
    {
     "data": {
      "text/plain": [
       "0.0729179957793552"
      ]
     },
     "execution_count": 48,
     "metadata": {},
     "output_type": "execute_result"
    }
   ],
   "source": [
    "# add Newspaper to the model (which we believe has no association with Sales)\n",
    "lm = smf.ols(formula='Observed ~ Precipitation', data=data).fit()\n",
    "lm.rsquared"
   ]
  },
  {
   "cell_type": "code",
   "execution_count": 49,
   "metadata": {},
   "outputs": [
    {
     "data": {
      "text/plain": [
       "0.002998304126610729"
      ]
     },
     "execution_count": 49,
     "metadata": {},
     "output_type": "execute_result"
    }
   ],
   "source": [
    "# add Newspaper to the model (which we believe has no association with Sales)\n",
    "lm = smf.ols(formula='Observed ~ Irrigation_pumping', data=data).fit()\n",
    "lm.rsquared"
   ]
  },
  {
   "cell_type": "code",
   "execution_count": 51,
   "metadata": {},
   "outputs": [],
   "source": [
    "## Since R-squared is big, Segment_id, x, Precipitation, Date are the most predictive explanatory variables"
   ]
  },
  {
   "cell_type": "markdown",
   "metadata": {},
   "source": [
    "**R-squared will always increase as you add more features to the model**, even if they are unrelated to the response. Thus, selecting the model with the highest R-squared is not a reliable approach for choosing the best linear model.\n",
    "\n",
    "There is alternative to R-squared called **adjusted R-squared** that penalizes model complexity (to control for overfitting), but it generally [under-penalizes complexity](http://scott.fortmann-roe.com/docs/MeasuringError.html).\n",
    "\n",
    "So is there a better approach to feature selection? **Cross-validation.** It provides a more reliable estimate of out-of-sample error, and thus is a better way to choose which of your models will best **generalize** to out-of-sample data. There is extensive functionality for cross-validation in scikit-learn, including automated methods for searching different sets of parameters and different models. Importantly, cross-validation can be applied to any model, whereas the methods described above only apply to linear models."
   ]
  },
  {
   "cell_type": "markdown",
   "metadata": {},
   "source": [
    "Note that **p-values** and **confidence intervals** are not (easily) accessible through scikit-learn."
   ]
  },
  {
   "cell_type": "code",
   "execution_count": null,
   "metadata": {},
   "outputs": [],
   "source": []
  },
  {
   "cell_type": "markdown",
   "metadata": {},
   "source": [
    "## What Didn't We Cover?\n",
    "\n",
    "- Detecting collinearity\n",
    "- Diagnosing model fit\n",
    "- Transforming predictors to fit non-linear relationships\n",
    "- Interaction terms\n",
    "- Assumptions of linear regression\n",
    "- And so much more!\n",
    "\n",
    "You could certainly go very deep into linear regression, and learn how to apply it really, really well. It's an excellent way to **start your modeling process** when working a regression problem. However, it is limited by the fact that it can only make good predictions if there is a **linear relationship** between the features and the response, which is why more complex methods (with higher variance and lower bias) will often outperform linear regression.\n",
    "\n",
    "Therefore, we want you to understand linear regression conceptually, understand its strengths and weaknesses, be familiar with the terminology, and know how to apply it. However, we also want to spend time on many other machine learning models, which is why we aren't going deeper here."
   ]
  },
  {
   "cell_type": "markdown",
   "metadata": {},
   "source": [
    "## Resources\n",
    "\n",
    "- To go much more in-depth on linear regression, read Chapter 3 of [An Introduction to Statistical Learning](http://www-bcf.usc.edu/~gareth/ISL/), from which this lesson was adapted. Alternatively, watch the [related videos](http://www.dataschool.io/15-hours-of-expert-machine-learning-videos/) or read my [quick reference guide](http://www.dataschool.io/applying-and-interpreting-linear-regression/) to the key points in that chapter.\n",
    "- To learn more about Statsmodels and how to interpret the output, DataRobot has some decent posts on [simple linear regression](http://www.datarobot.com/blog/ordinary-least-squares-in-python/) and [multiple linear regression](http://www.datarobot.com/blog/multiple-regression-using-statsmodels/).\n",
    "- This [introduction to linear regression](http://people.duke.edu/~rnau/regintro.htm) is much more detailed and mathematically thorough, and includes lots of good advice.\n",
    "- This is a relatively quick post on the [assumptions of linear regression](http://pareonline.net/getvn.asp?n=2&v=8)."
   ]
  }
 ],
 "metadata": {
  "kernelspec": {
   "display_name": "Python 3",
   "language": "python",
   "name": "python3"
  },
  "language_info": {
   "codemirror_mode": {
    "name": "ipython",
    "version": 3
   },
   "file_extension": ".py",
   "mimetype": "text/x-python",
   "name": "python",
   "nbconvert_exporter": "python",
   "pygments_lexer": "ipython3",
   "version": "3.7.1"
  }
 },
 "nbformat": 4,
 "nbformat_minor": 1
}
